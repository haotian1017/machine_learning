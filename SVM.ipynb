{
 "cells": [
  {
   "cell_type": "code",
   "execution_count": 1,
   "metadata": {},
   "outputs": [],
   "source": [
    "import pandas as pd\n",
    "import numpy as np\n",
    "from collections import Counter\n",
    "from matplotlib import pyplot\n",
    "from numpy import where\n",
    "from itertools import chain\n",
    "\n",
    "train = pd.read_csv('train.csv')\n",
    "dev = pd.read_csv('dev.csv')"
   ]
  },
  {
   "cell_type": "code",
   "execution_count": 2,
   "metadata": {},
   "outputs": [],
   "source": [
    "# stop words\n",
    "positive = train[train['label']==1]\n",
    "true_word_list = []\n",
    "for i in range(0, positive['review'].count()):\n",
    "    true_word_temp = positive['review'].iloc[i].split()\n",
    "    true_word_list.append(true_word_temp)\n",
    "\n",
    "list1 = list(chain.from_iterable(true_word_list))\n",
    "true_mc = Counter(list1).most_common()\n",
    "\n",
    "negative = train[train['label']==0]\n",
    "false_word_list = []\n",
    "for i in range(0, negative['review'].count()):\n",
    "    false_word_temp = negative['review'].iloc[i].split()\n",
    "    false_word_list.append(false_word_temp)\n",
    "    \n",
    "list2 = list(chain.from_iterable(false_word_list))\n",
    "false_mc = Counter(list2).most_common()\n",
    "\n",
    "df_true = pd.DataFrame(true_mc)[0:25]\n",
    "df_false = pd.DataFrame(false_mc)[0:25]\n",
    "common_words = list(set(df_true.iloc[:,0]).intersection(set(df_false.iloc[:,0])))"
   ]
  },
  {
   "cell_type": "code",
   "execution_count": 3,
   "metadata": {},
   "outputs": [],
   "source": [
    "from sklearn.feature_extraction.text import TfidfVectorizer\n",
    "y_train = train['label']\n",
    "y_dev = dev['label']\n",
    "X_train = train['review']\n",
    "X_dev = dev['review']\n",
    "tfidf = TfidfVectorizer(stop_words = common_words, ngram_range=(1, 2),max_features=10000)\n",
    "X_train_tfidf = tfidf.fit_transform(X_train)\n",
    "X_dev_tfidf = tfidf.transform(X_dev)"
   ]
  },
  {
   "cell_type": "code",
   "execution_count": null,
   "metadata": {},
   "outputs": [],
   "source": [
    "# weighted by n_samples / (n_classes * np.bincount(y))\n",
    "from sklearn.svm import SVC\n",
    "from sklearn.metrics import roc_auc_score\n",
    "from sklearn.metrics import average_precision_score\n",
    "\n",
    "model = SVC(gamma='scale',class_weight='balanced')\n",
    "model.fit(X_train_tfidf,y_train)\n",
    "y_pred = model.predict(X_dev_tfidf)\n",
    "rocauc = roc_auc_score(y_dev,y_pred)\n",
    "ap = average_precision_score(y_dev,y_pred)\n",
    "print(rocauc,ap)"
   ]
  },
  {
   "cell_type": "code",
   "execution_count": null,
   "metadata": {},
   "outputs": [],
   "source": [
    "# weighted by 10 for fake review\n",
    "model = SVC(gamma='scale',class_weight={1:10})#kernal='linear'\n",
    "model.fit(X_train_tfidf,y_train)\n",
    "y_pred = model.predict(X_dev_tfidf)\n",
    "rocauc=roc_auc_score(y_dev,y_pred)\n",
    "ap=average_precision_score(y_dev,y_pred)\n",
    "print(rocauc,ap)"
   ]
  },
  {
   "cell_type": "code",
   "execution_count": null,
   "metadata": {},
   "outputs": [],
   "source": [
    "# tuning\n",
    "weights = ['balanced',5,10,20,50]\n",
    "rocaucs = []\n",
    "aps = []\n",
    "for w in weights:\n",
    "    if w == 'balanced':\n",
    "        model = SVC(gamma='scale',class_weight='balanced')\n",
    "    else:\n",
    "        model = SVC(gamma='scale',class_weight={1:w})\n",
    "    model.fit(X_train_tfidf,y_train)\n",
    "    y_pred = model.predict(X_dev_tfidf)\n",
    "    rocauc=roc_auc_score(y_dev,y_pred)\n",
    "    ap=average_precision_score(y_dev,y_pred)\n",
    "    rocaucs.append(rocauc)\n",
    "    aps.append(ap)"
   ]
  },
  {
   "cell_type": "code",
   "execution_count": null,
   "metadata": {},
   "outputs": [],
   "source": [
    "# plot\n",
    "plt.plot(weights[1:], rocaucs[1:])\n",
    "plt.x_label('weighted option')\n",
    "plt.y_label('ROC_AUC on dev')\n",
    "plt.title('ROC_AUC')\n",
    "plt.show()\n",
    "\n",
    "plt.plot(weights[1:], aps[1:])\n",
    "plt.x_label('weighted option')\n",
    "plt.y_label('AP on dev')\n",
    "plt.title('AP')\n",
    "plt.show()"
   ]
  }
 ],
 "metadata": {
  "kernelspec": {
   "display_name": "Python 3",
   "language": "python",
   "name": "python3"
  },
  "language_info": {
   "codemirror_mode": {
    "name": "ipython",
    "version": 3
   },
   "file_extension": ".py",
   "mimetype": "text/x-python",
   "name": "python",
   "nbconvert_exporter": "python",
   "pygments_lexer": "ipython3",
   "version": "3.7.3"
  }
 },
 "nbformat": 4,
 "nbformat_minor": 4
}
